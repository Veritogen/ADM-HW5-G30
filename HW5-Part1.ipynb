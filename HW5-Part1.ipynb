{
 "cells": [
  {
   "cell_type": "code",
   "execution_count": 39,
   "metadata": {},
   "outputs": [],
   "source": [
    "import numpy as np\n",
    "import pandas as pd\n",
    "import math\n"
   ]
  },
  {
   "cell_type": "code",
   "execution_count": null,
   "metadata": {},
   "outputs": [],
   "source": [
    "#opening the file that countains the information of our graph\n",
    "d = np.loadtxt('wiki-topcats-reduced.txt', delimiter=\"\\t\")\n",
    "#converting the float values to integers for better readability\n",
    "d = d.astype(int)"
   ]
  },
  {
   "cell_type": "code",
   "execution_count": 33,
   "metadata": {},
   "outputs": [
    {
     "data": {
      "text/plain": [
       "461193"
      ]
     },
     "execution_count": 33,
     "metadata": {},
     "output_type": "execute_result"
    }
   ],
   "source": [
    "#getting the number of nodes by getting a list of unique values and the get the length of this list\n",
    "no_nodes = len(np.unique(d))\n",
    "no_nodes"
   ]
  },
  {
   "cell_type": "code",
   "execution_count": 34,
   "metadata": {},
   "outputs": [
    {
     "data": {
      "text/plain": [
       "2645247"
      ]
     },
     "execution_count": 34,
     "metadata": {},
     "output_type": "execute_result"
    }
   ],
   "source": [
    "#the number of all edges we can retrieve by seeing how many rows our array has, as every row represents one edge\n",
    "no_edges = len(d)\n",
    "no_edges"
   ]
  },
  {
   "cell_type": "code",
   "execution_count": 38,
   "metadata": {},
   "outputs": [
    {
     "data": {
      "text/plain": [
       "777"
      ]
     },
     "execution_count": 38,
     "metadata": {},
     "output_type": "execute_result"
    }
   ],
   "source": [
    "#counting the numbers of self loops\n",
    "self_count = 0\n",
    "for row in d:\n",
    "    if row[0] == row[1]:\n",
    "        self_count += 1\n",
    "self_count"
   ]
  },
  {
   "cell_type": "code",
   "execution_count": 42,
   "metadata": {},
   "outputs": [
    {
     "data": {
      "text/plain": [
       "212698983249"
      ]
     },
     "execution_count": 42,
     "metadata": {},
     "output_type": "execute_result"
    }
   ],
   "source": [
    "max_edges = no_nodes*(no_nodes-1)+no_nodes\n",
    "max_edges"
   ]
  },
  {
   "cell_type": "code",
   "execution_count": 64,
   "metadata": {},
   "outputs": [],
   "source": [
    "graph = dict()\n",
    "for row in d:\n",
    "    if row[0] in graph.keys():\n",
    "        #print(type(graph[row[0]]))\n",
    "        graph[row[0]].append(row[1])# = (graph[row[0]]).append(row[1])\n",
    "    else:\n",
    "        graph[row[0]] = [row[1]]\n",
    "    "
   ]
  },
  {
   "cell_type": "code",
   "execution_count": null,
   "metadata": {},
   "outputs": [],
   "source": [
    "#checking if graph is directed by seeing if values of the second column occur in the first column as well. \n",
    "#As soon as there is at least one phenomenon like this, our graph is directed.\n",
    "self_count = 0\n",
    "directed == False\n",
    "for node1 in d:\n",
    "    for node2 in d:\n",
    "        if node1[1] == node2[0]:\n",
    "            print(\"directed  graph\")\n",
    "    break\n",
    "    \n"
   ]
  },
  {
   "cell_type": "code",
   "execution_count": 87,
   "metadata": {},
   "outputs": [
    {
     "data": {
      "text/plain": [
       "5.735661642739591"
      ]
     },
     "execution_count": 87,
     "metadata": {},
     "output_type": "execute_result"
    }
   ],
   "source": [
    "#calculating the average degree by dividing the total number of edges (number of rows in our array) by the number of nodes (unique values in our array)\n",
    "avg_degree = no_edges/no_nodes\n",
    "avg_degree"
   ]
  },
  {
   "cell_type": "code",
   "execution_count": 93,
   "metadata": {},
   "outputs": [
    {
     "data": {
      "text/plain": [
       "1.2436602635647606e-05"
      ]
     },
     "execution_count": 93,
     "metadata": {},
     "output_type": "execute_result"
    }
   ],
   "source": [
    "#calculating the density\n",
    "dens = (no_edges)/(no_nodes*(no_nodes-1))\n",
    "dens"
   ]
  },
  {
   "cell_type": "markdown",
   "metadata": {},
   "source": [
    "As a value of 1 indicates a very dense graph and our result for the density is very low value, we conclude that it is a very sparse graph. "
   ]
  },
  {
   "cell_type": "code",
   "execution_count": null,
   "metadata": {},
   "outputs": [],
   "source": [
    "1.2436602635647606e-05"
   ]
  },
  {
   "cell_type": "code",
   "execution_count": null,
   "metadata": {},
   "outputs": [],
   "source": []
  }
 ],
 "metadata": {
  "kernelspec": {
   "display_name": "Python 3",
   "language": "python",
   "name": "python3"
  },
  "language_info": {
   "codemirror_mode": {
    "name": "ipython",
    "version": 3
   },
   "file_extension": ".py",
   "mimetype": "text/x-python",
   "name": "python",
   "nbconvert_exporter": "python",
   "pygments_lexer": "ipython3",
   "version": "3.6.6"
  }
 },
 "nbformat": 4,
 "nbformat_minor": 2
}
