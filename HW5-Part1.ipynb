{
 "cells": [
  {
   "cell_type": "code",
   "execution_count": 19,
   "metadata": {},
   "outputs": [],
   "source": [
    "import numpy as np\n",
    "import pandas as pd\n",
    "import math\n",
    "import networkx as nx\n"
   ]
  },
  {
   "cell_type": "code",
   "execution_count": 20,
   "metadata": {},
   "outputs": [],
   "source": [
    "#opening the file that countains the information of our graph\n",
    "nodesfile = np.loadtxt('wiki-topcats-reduced.txt', delimiter=\"\\t\", dtype =int)\n",
    "#converting the float values to integers for better readability\n",
    "#d = d.astype(int)"
   ]
  },
  {
   "cell_type": "code",
   "execution_count": 21,
   "metadata": {},
   "outputs": [
    {
     "data": {
      "text/plain": [
       "461193"
      ]
     },
     "execution_count": 21,
     "metadata": {},
     "output_type": "execute_result"
    }
   ],
   "source": [
    "#getting the number of nodes by getting a list of unique values and the get the length of this list\n",
    "no_nodes = len(np.unique(nodesfile))\n",
    "no_nodes"
   ]
  },
  {
   "cell_type": "code",
   "execution_count": 22,
   "metadata": {},
   "outputs": [
    {
     "data": {
      "text/plain": [
       "2645247"
      ]
     },
     "execution_count": 22,
     "metadata": {},
     "output_type": "execute_result"
    }
   ],
   "source": [
    "#the number of all edges we can retrieve by seeing how many rows our array has, as every row represents one edge\n",
    "no_edges = len(nodesfile)\n",
    "no_edges"
   ]
  },
  {
   "cell_type": "code",
   "execution_count": 23,
   "metadata": {},
   "outputs": [
    {
     "data": {
      "text/plain": [
       "777"
      ]
     },
     "execution_count": 23,
     "metadata": {},
     "output_type": "execute_result"
    }
   ],
   "source": [
    "#counting the numbers of self loops\n",
    "self_count = 0\n",
    "for row in nodesfile:\n",
    "    if row[0] == row[1]:\n",
    "        self_count += 1\n",
    "self_count"
   ]
  },
  {
   "cell_type": "code",
   "execution_count": 24,
   "metadata": {},
   "outputs": [
    {
     "data": {
      "text/plain": [
       "212698983249"
      ]
     },
     "execution_count": 24,
     "metadata": {},
     "output_type": "execute_result"
    }
   ],
   "source": [
    "max_edges = no_nodes*(no_nodes-1)+no_nodes\n",
    "max_edges"
   ]
  },
  {
   "cell_type": "code",
   "execution_count": 38,
   "metadata": {},
   "outputs": [],
   "source": [
    "# Creating the grpah using the networkx library (as the TA's said on slack that we can use \n",
    "# networkx for this purpose). \n",
    "# By creating the edges from our file, the nodes will automatically be created by networkx.\n",
    "graph = nx.Graph()\n",
    "for nodes in nodesfile:\n",
    "    graph.add_edge(nodes[0], nodes[1])"
   ]
  },
  {
   "cell_type": "code",
   "execution_count": 26,
   "metadata": {},
   "outputs": [
    {
     "name": "stdout",
     "output_type": "stream",
     "text": [
      "directed graph\n"
     ]
    }
   ],
   "source": [
    "# checking if graph is directed by seeing if the first node occurs the same number of times in both columns. \n",
    "# if the number of occurences is the same, we have a undirected graph. If not, its directed.  \n",
    "dir_count1 = 0\n",
    "dir_count2 = 0\n",
    "for node1 in nodesfile:\n",
    "    if d[0][0] == node1[0]:\n",
    "        dir_count1 +=1\n",
    "    if d[0][0] == node1[1]:\n",
    "        dir_count2 +=1\n",
    "if dir_count1 != dir_count2:\n",
    "    print(\"directed graph\")\n",
    "else:\n",
    "    print(\"no directed graph\")\n"
   ]
  },
  {
   "cell_type": "code",
   "execution_count": 27,
   "metadata": {},
   "outputs": [
    {
     "data": {
      "text/plain": [
       "5.735661642739591"
      ]
     },
     "execution_count": 27,
     "metadata": {},
     "output_type": "execute_result"
    }
   ],
   "source": [
    "#calculating the average degree by dividing the total number of edges (number of rows in our array) by the number of nodes (unique values in our array)\n",
    "avg_degree = no_edges/no_nodes\n",
    "avg_degree"
   ]
  },
  {
   "cell_type": "code",
   "execution_count": 28,
   "metadata": {},
   "outputs": [
    {
     "data": {
      "text/plain": [
       "1.2436602635647606e-05"
      ]
     },
     "execution_count": 28,
     "metadata": {},
     "output_type": "execute_result"
    }
   ],
   "source": [
    "#calculating the density\n",
    "dens = (no_edges)/(no_nodes*(no_nodes-1))\n",
    "dens"
   ]
  },
  {
   "cell_type": "markdown",
   "metadata": {},
   "source": [
    "As a value of 1 indicates a very dense graph and our result for the density is very low value, we conclude that it is a very sparse graph. "
   ]
  },
  {
   "cell_type": "code",
   "execution_count": null,
   "metadata": {},
   "outputs": [],
   "source": []
  }
 ],
 "metadata": {
  "kernelspec": {
   "display_name": "Python 3",
   "language": "python",
   "name": "python3"
  },
  "language_info": {
   "codemirror_mode": {
    "name": "ipython",
    "version": 3
   },
   "file_extension": ".py",
   "mimetype": "text/x-python",
   "name": "python",
   "nbconvert_exporter": "python",
   "pygments_lexer": "ipython3",
   "version": "3.6.6"
  }
 },
 "nbformat": 4,
 "nbformat_minor": 2
}
